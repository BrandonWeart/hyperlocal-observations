{
 "cells": [
  {
   "cell_type": "markdown",
   "id": "c134f7b4-cfba-4ae2-a135-bff84f2fe22a",
   "metadata": {},
   "source": [
    "<p style=\"text-align: left; font-size: 32px; font-weight: bold;\">\n",
    "    Creating animated gifs with NEXRAD Level 2 radar data using Py-ART\n",
    "</p>"
   ]
  },
  {
   "cell_type": "markdown",
   "id": "a9f82bb5-8818-4b15-8bd4-ec523003f885",
   "metadata": {},
   "source": [
    "# Overview\n",
    "### Within this notebook, we will cover:\n",
    "#### 1: Accessing NEXRAD data from AWS\n",
    "#### 2: How to read the data into Py-ART and create plots\n",
    "#### 3: How to create animated gifs with acquired radar data from Py-ART"
   ]
  },
  {
   "cell_type": "markdown",
   "id": "4a607231-ae5d-4a4e-921a-91c6d8f4e70d",
   "metadata": {},
   "source": [
    "# Prerequisites \n",
    "\n",
    "\n",
    "| Concepts | Importance | Notes |\n",
    "| -------- | ---------- | ----- |\n",
    "| [Quickstart: Zero to Python](https://foundations.projectpythia.org/foundations/quickstart.html) | Required | For loops, lists |\n",
    "| [Matplotlib Basics](https://link-to-matplotlib-basics) | Required | Basic plotting |\n",
    "| [Py-ART Basics](https://link-to-pyart-basics) | Required | IO/Visualization |\n",
    "\n",
    "* **Time to learn:** 30 Minutes\n"
   ]
  },
  {
   "cell_type": "markdown",
   "id": "3c9d4049-6720-4d4c-bfc8-04dd12397781",
   "metadata": {},
   "source": [
    "# Imports for animated gif making in PyArt "
   ]
  },
  {
   "cell_type": "code",
   "execution_count": 77,
   "id": "f246ac79-d655-4677-9a4d-c0a43ef61a27",
   "metadata": {
    "tags": []
   },
   "outputs": [],
   "source": [
    "import pyart\n",
    "import fsspec\n",
    "import matplotlib.pyplot as plt\n",
    "import imageio\n",
    "import os\n",
    "from io import BytesIO\n",
    "import warnings\n",
    "import cartopy.crs as ccrs\n",
    "from metpy.plots import USCOUNTIES\n",
    "from scipy.interpolate import griddata\n",
    "import numpy as np\n",
    "warnings.filterwarnings(\"ignore\")"
   ]
  },
  {
   "cell_type": "markdown",
   "id": "71c4f727-a320-41d8-9f37-ab40a50005c0",
   "metadata": {},
   "source": [
    "----"
   ]
  },
  {
   "cell_type": "markdown",
   "id": "05ea3aa2-2bc5-4a95-944c-8609136a8c00",
   "metadata": {},
   "source": [
    "### Set up the AWS S3 filysystem\n",
    "This allows you to pull nexrad-level-2 data files from the AWS repository."
   ]
  },
  {
   "cell_type": "code",
   "execution_count": 81,
   "id": "adc36e3e-53d7-48fd-8480-e54b42edd17d",
   "metadata": {
    "tags": []
   },
   "outputs": [],
   "source": [
    "fs = fsspec.filesystem(\"s3\", anon=True)"
   ]
  },
  {
   "cell_type": "markdown",
   "id": "49f8df8f-30bc-43ff-9e6f-e07e703d7dc0",
   "metadata": {},
   "source": [
    "### Selecting your date, station, and time period"
   ]
  },
  {
   "cell_type": "markdown",
   "id": "6bed835f-02f7-449b-8dee-37f5b500f2f1",
   "metadata": {
    "tags": []
   },
   "source": [
    "Once the file system is set up, you can use the following code to specify what time, date, and station you'd like to retrieve data for\n",
    "\n",
    "For this example, we will use data from NWS Chicago (KLOT) from 04 UTC, June 5th, 2024\n",
    "\n",
    "The frames variable is an empty list that is created so we can append (add to) the frames to the list during the gif creation process"
   ]
  },
  {
   "cell_type": "code",
   "execution_count": 92,
   "id": "8a8b5c36-4433-466c-958a-2479ae6af8e8",
   "metadata": {
    "collapsed": true,
    "jupyter": {
     "outputs_hidden": true
    },
    "tags": []
   },
   "outputs": [
    {
     "data": {
      "text/plain": [
       "['noaa-nexrad-level2/2024/06/05/KLOT/KLOT20240605_040442_V06',\n",
       " 'noaa-nexrad-level2/2024/06/05/KLOT/KLOT20240605_040926_V06',\n",
       " 'noaa-nexrad-level2/2024/06/05/KLOT/KLOT20240605_041403_V06',\n",
       " 'noaa-nexrad-level2/2024/06/05/KLOT/KLOT20240605_041840_V06',\n",
       " 'noaa-nexrad-level2/2024/06/05/KLOT/KLOT20240605_042316_V06',\n",
       " 'noaa-nexrad-level2/2024/06/05/KLOT/KLOT20240605_042800_V06',\n",
       " 'noaa-nexrad-level2/2024/06/05/KLOT/KLOT20240605_043244_V06',\n",
       " 'noaa-nexrad-level2/2024/06/05/KLOT/KLOT20240605_043728_V06',\n",
       " 'noaa-nexrad-level2/2024/06/05/KLOT/KLOT20240605_044158_V06',\n",
       " 'noaa-nexrad-level2/2024/06/05/KLOT/KLOT20240605_044635_V06',\n",
       " 'noaa-nexrad-level2/2024/06/05/KLOT/KLOT20240605_045106_V06',\n",
       " 'noaa-nexrad-level2/2024/06/05/KLOT/KLOT20240605_045532_V06',\n",
       " 'noaa-nexrad-level2/2024/06/05/KLOT/KLOT20240605_045958_V06',\n",
       " 'noaa-nexrad-level2/2024/06/05/KLOT/KLOT20240605_045958_V06_MDM',\n",
       " 'noaa-nexrad-level2/2024/06/05/KLOT/KLOT20240605_050423_V06',\n",
       " 'noaa-nexrad-level2/2024/06/05/KLOT/KLOT20240605_050849_V06',\n",
       " 'noaa-nexrad-level2/2024/06/05/KLOT/KLOT20240605_051315_V06',\n",
       " 'noaa-nexrad-level2/2024/06/05/KLOT/KLOT20240605_051741_V06',\n",
       " 'noaa-nexrad-level2/2024/06/05/KLOT/KLOT20240605_052202_V06',\n",
       " 'noaa-nexrad-level2/2024/06/05/KLOT/KLOT20240605_052623_V06',\n",
       " 'noaa-nexrad-level2/2024/06/05/KLOT/KLOT20240605_053059_V06',\n",
       " 'noaa-nexrad-level2/2024/06/05/KLOT/KLOT20240605_053543_V06',\n",
       " 'noaa-nexrad-level2/2024/06/05/KLOT/KLOT20240605_054009_V06',\n",
       " 'noaa-nexrad-level2/2024/06/05/KLOT/KLOT20240605_054452_V06',\n",
       " 'noaa-nexrad-level2/2024/06/05/KLOT/KLOT20240605_054936_V06',\n",
       " 'noaa-nexrad-level2/2024/06/05/KLOT/KLOT20240605_055420_V06',\n",
       " 'noaa-nexrad-level2/2024/06/05/KLOT/KLOT20240605_055845_V06',\n",
       " 'noaa-nexrad-level2/2024/06/05/KLOT/KLOT20240605_055845_V06_MDM',\n",
       " 'noaa-nexrad-level2/2024/06/05/KLOT/KLOT20240605_060311_V06',\n",
       " 'noaa-nexrad-level2/2024/06/05/KLOT/KLOT20240605_060737_V06',\n",
       " 'noaa-nexrad-level2/2024/06/05/KLOT/KLOT20240605_061221_V06',\n",
       " 'noaa-nexrad-level2/2024/06/05/KLOT/KLOT20240605_061705_V06',\n",
       " 'noaa-nexrad-level2/2024/06/05/KLOT/KLOT20240605_062142_V06',\n",
       " 'noaa-nexrad-level2/2024/06/05/KLOT/KLOT20240605_062625_V06',\n",
       " 'noaa-nexrad-level2/2024/06/05/KLOT/KLOT20240605_063110_V06',\n",
       " 'noaa-nexrad-level2/2024/06/05/KLOT/KLOT20240605_063530_V06',\n",
       " 'noaa-nexrad-level2/2024/06/05/KLOT/KLOT20240605_063956_V06',\n",
       " 'noaa-nexrad-level2/2024/06/05/KLOT/KLOT20240605_064417_V06',\n",
       " 'noaa-nexrad-level2/2024/06/05/KLOT/KLOT20240605_064838_V06',\n",
       " 'noaa-nexrad-level2/2024/06/05/KLOT/KLOT20240605_065259_V06',\n",
       " 'noaa-nexrad-level2/2024/06/05/KLOT/KLOT20240605_065721_V06',\n",
       " 'noaa-nexrad-level2/2024/06/05/KLOT/KLOT20240605_065721_V06_MDM',\n",
       " 'noaa-nexrad-level2/2024/06/05/KLOT/KLOT20240605_070158_V06',\n",
       " 'noaa-nexrad-level2/2024/06/05/KLOT/KLOT20240605_070635_V06',\n",
       " 'noaa-nexrad-level2/2024/06/05/KLOT/KLOT20240605_071112_V06',\n",
       " 'noaa-nexrad-level2/2024/06/05/KLOT/KLOT20240605_071533_V06',\n",
       " 'noaa-nexrad-level2/2024/06/05/KLOT/KLOT20240605_071955_V06',\n",
       " 'noaa-nexrad-level2/2024/06/05/KLOT/KLOT20240605_072438_V06',\n",
       " 'noaa-nexrad-level2/2024/06/05/KLOT/KLOT20240605_072859_V06',\n",
       " 'noaa-nexrad-level2/2024/06/05/KLOT/KLOT20240605_073320_V06',\n",
       " 'noaa-nexrad-level2/2024/06/05/KLOT/KLOT20240605_073741_V06',\n",
       " 'noaa-nexrad-level2/2024/06/05/KLOT/KLOT20240605_074202_V06',\n",
       " 'noaa-nexrad-level2/2024/06/05/KLOT/KLOT20240605_074646_V06',\n",
       " 'noaa-nexrad-level2/2024/06/05/KLOT/KLOT20240605_075130_V06',\n",
       " 'noaa-nexrad-level2/2024/06/05/KLOT/KLOT20240605_075614_V06',\n",
       " 'noaa-nexrad-level2/2024/06/05/KLOT/KLOT20240605_075614_V06_MDM',\n",
       " 'noaa-nexrad-level2/2024/06/05/KLOT/KLOT20240605_080036_V06',\n",
       " 'noaa-nexrad-level2/2024/06/05/KLOT/KLOT20240605_080506_V06',\n",
       " 'noaa-nexrad-level2/2024/06/05/KLOT/KLOT20240605_080918_V06',\n",
       " 'noaa-nexrad-level2/2024/06/05/KLOT/KLOT20240605_081341_V06',\n",
       " 'noaa-nexrad-level2/2024/06/05/KLOT/KLOT20240605_081811_V06',\n",
       " 'noaa-nexrad-level2/2024/06/05/KLOT/KLOT20240605_082221_V06',\n",
       " 'noaa-nexrad-level2/2024/06/05/KLOT/KLOT20240605_082631_V06',\n",
       " 'noaa-nexrad-level2/2024/06/05/KLOT/KLOT20240605_083042_V06',\n",
       " 'noaa-nexrad-level2/2024/06/05/KLOT/KLOT20240605_083451_V06',\n",
       " 'noaa-nexrad-level2/2024/06/05/KLOT/KLOT20240605_083847_V06',\n",
       " 'noaa-nexrad-level2/2024/06/05/KLOT/KLOT20240605_084244_V06',\n",
       " 'noaa-nexrad-level2/2024/06/05/KLOT/KLOT20240605_084640_V06',\n",
       " 'noaa-nexrad-level2/2024/06/05/KLOT/KLOT20240605_085049_V06',\n",
       " 'noaa-nexrad-level2/2024/06/05/KLOT/KLOT20240605_085459_V06',\n",
       " 'noaa-nexrad-level2/2024/06/05/KLOT/KLOT20240605_085908_V06',\n",
       " 'noaa-nexrad-level2/2024/06/05/KLOT/KLOT20240605_085908_V06_MDM',\n",
       " 'noaa-nexrad-level2/2024/06/05/KLOT/KLOT20240605_090330_V06',\n",
       " 'noaa-nexrad-level2/2024/06/05/KLOT/KLOT20240605_090739_V06',\n",
       " 'noaa-nexrad-level2/2024/06/05/KLOT/KLOT20240605_091202_V06',\n",
       " 'noaa-nexrad-level2/2024/06/05/KLOT/KLOT20240605_091613_V06',\n",
       " 'noaa-nexrad-level2/2024/06/05/KLOT/KLOT20240605_092036_V06',\n",
       " 'noaa-nexrad-level2/2024/06/05/KLOT/KLOT20240605_092443_V06',\n",
       " 'noaa-nexrad-level2/2024/06/05/KLOT/KLOT20240605_092919_V06',\n",
       " 'noaa-nexrad-level2/2024/06/05/KLOT/KLOT20240605_093342_V06',\n",
       " 'noaa-nexrad-level2/2024/06/05/KLOT/KLOT20240605_093804_V06',\n",
       " 'noaa-nexrad-level2/2024/06/05/KLOT/KLOT20240605_094248_V06',\n",
       " 'noaa-nexrad-level2/2024/06/05/KLOT/KLOT20240605_094724_V06',\n",
       " 'noaa-nexrad-level2/2024/06/05/KLOT/KLOT20240605_095200_V06',\n",
       " 'noaa-nexrad-level2/2024/06/05/KLOT/KLOT20240605_095637_V06',\n",
       " 'noaa-nexrad-level2/2024/06/05/KLOT/KLOT20240605_095637_V06_MDM',\n",
       " 'noaa-nexrad-level2/2024/06/05/KLOT/KLOT20240605_100113_V06',\n",
       " 'noaa-nexrad-level2/2024/06/05/KLOT/KLOT20240605_100550_V06',\n",
       " 'noaa-nexrad-level2/2024/06/05/KLOT/KLOT20240605_101026_V06',\n",
       " 'noaa-nexrad-level2/2024/06/05/KLOT/KLOT20240605_101511_V06',\n",
       " 'noaa-nexrad-level2/2024/06/05/KLOT/KLOT20240605_101954_V06',\n",
       " 'noaa-nexrad-level2/2024/06/05/KLOT/KLOT20240605_102531_V06',\n",
       " 'noaa-nexrad-level2/2024/06/05/KLOT/KLOT20240605_103002_V06',\n",
       " 'noaa-nexrad-level2/2024/06/05/KLOT/KLOT20240605_103419_V06',\n",
       " 'noaa-nexrad-level2/2024/06/05/KLOT/KLOT20240605_103829_V06',\n",
       " 'noaa-nexrad-level2/2024/06/05/KLOT/KLOT20240605_104224_V06',\n",
       " 'noaa-nexrad-level2/2024/06/05/KLOT/KLOT20240605_104615_V06',\n",
       " 'noaa-nexrad-level2/2024/06/05/KLOT/KLOT20240605_105007_V06',\n",
       " 'noaa-nexrad-level2/2024/06/05/KLOT/KLOT20240605_105357_V06',\n",
       " 'noaa-nexrad-level2/2024/06/05/KLOT/KLOT20240605_105748_V06',\n",
       " 'noaa-nexrad-level2/2024/06/05/KLOT/KLOT20240605_105748_V06_MDM']"
      ]
     },
     "execution_count": 92,
     "metadata": {},
     "output_type": "execute_result"
    }
   ],
   "source": [
    "date = \"2024/06/05\" #YYYY/MM/DD\n",
    "station = \"KLOT\"\n",
    "\n",
    "# Specify the start and end hours\n",
    "start_hour = 4\n",
    "end_hour = 10\n",
    "\n",
    "# Generate the list of files for the specified range of hours\n",
    "files = []\n",
    "for hour in range(start_hour, end_hour + 1):\n",
    "    hour_str = f\"{hour:02d}\"\n",
    "    files += sorted(fs.glob(f\"s3://noaa-nexrad-level2/{date}/{station}/{station}{date.replace('/', '')}_{hour_str}*\"))\n",
    "files\n",
    "\n"
   ]
  },
  {
   "cell_type": "code",
   "execution_count": 94,
   "id": "ce04bf02-ffda-433f-afff-2d4ddb7734a6",
   "metadata": {
    "tags": []
   },
   "outputs": [],
   "source": [
    "frames = []"
   ]
  },
  {
   "cell_type": "markdown",
   "id": "4c3ccfc0-9299-4623-a938-db658e08b2b3",
   "metadata": {},
   "source": [
    "### OPTIONAL* setting up individual locations to be plotted on your map\n",
    "\n",
    "In this example, two plots are pointed due to their relevance to the example weather event: The ATMOS facility at Argonne National Laboratory, Lemont, IL, and Sawmill Creek in Darien, IL. The latitude and longitude for each site should be placed at the same index (IE. Index 0 in both latitude and longitude should contain the latitude and longitude data for that one site. This also applies to the labels, markers, and colors. Any object in the index 0 slot will apply to that same point.)\n",
    "\n"
   ]
  },
  {
   "cell_type": "code",
   "execution_count": 97,
   "id": "1d9d8153-5d70-4115-876e-4b7777fa07e9",
   "metadata": {
    "tags": []
   },
   "outputs": [],
   "source": [
    "latitude = [41.700937896518866, 41.73884644555692] \n",
    "longitude = [-87.99578103231573, -87.98744136114946]\n",
    "labels = ['Tower', 'SCM']\n",
    "markers = ['v', 'o']\n",
    "colors = ['black', 'gray']"
   ]
  },
  {
   "cell_type": "markdown",
   "id": "ac0849f7-4b01-44fa-b509-be46bb2c8be3",
   "metadata": {},
   "source": [
    "---"
   ]
  },
  {
   "cell_type": "markdown",
   "id": "fc2c25c6-de85-425b-95f9-c8a17aae0743",
   "metadata": {},
   "source": [
    "# Reading the data into PyART\n",
    "\n",
    "To streamline the process of pulling and processing the radar files, we will create a function called read_radar_data. \n",
    "\n",
    "Within this function, some progress tracking code is implemented. Each time a file is successfully read, a message will be printed out letting you know what file in the order it is. This is useful to tell if your code is actually working.\n",
    "An exception is added to this code so that the files marked MDM (shown on the list of filed compiled when pulling data) do not halt the process, and are instead skipped as they are not necessary.  \n",
    "\n",
    "\n",
    "#### This function will be layed out in blocks, but will be shown in whole after each section is explained. "
   ]
  },
  {
   "cell_type": "code",
   "execution_count": 101,
   "id": "3deb74a8-3e1a-4fdd-bc30-429f9320d522",
   "metadata": {
    "tags": []
   },
   "outputs": [],
   "source": [
    "def read_radar_data(file_path):\n",
    "    try:\n",
    "        with fs.open(file_path, 'rb') as f:\n",
    "            radar_data = f.read()\n",
    "        radar_file = BytesIO(radar_data)\n",
    "        radar = pyart.io.read_nexrad_archive(radar_file)\n",
    "        print(f\"Successfully read radar data from {file_path}\")\n",
    "        return radar\n",
    "    except Exception as e:\n",
    "        print(f\"Failed to read radar data from {file_path}: {e}\")\n",
    "        return None\n"
   ]
  },
  {
   "cell_type": "markdown",
   "id": "b1088205-283b-4325-9873-2bf189ddfcd9",
   "metadata": {},
   "source": [
    "#### The different radar products available to be plotted can be viewed below:"
   ]
  },
  {
   "cell_type": "code",
   "execution_count": 104,
   "id": "eddec74e-9de1-49c2-b3e5-c2f5c65e7906",
   "metadata": {
    "tags": []
   },
   "outputs": [
    {
     "data": {
      "text/plain": [
       "['differential_reflectivity',\n",
       " 'clutter_filter_power_removed',\n",
       " 'spectrum_width',\n",
       " 'velocity',\n",
       " 'differential_phase',\n",
       " 'cross_correlation_ratio',\n",
       " 'reflectivity']"
      ]
     },
     "execution_count": 104,
     "metadata": {},
     "output_type": "execute_result"
    }
   ],
   "source": [
    "list(radar.fields)"
   ]
  },
  {
   "cell_type": "markdown",
   "id": "8ce02b42-7c14-4424-a6f4-85cdbf77d738",
   "metadata": {},
   "source": [
    "### Looping through the radar data\n",
    "\n",
    "This code allows us to loop through each radar file read. A progress message is printed when a new file has started being processed. \n",
    "The if statement tells the code to skip files that are unable to be read."
   ]
  },
  {
   "cell_type": "code",
   "execution_count": 107,
   "id": "c84b1d35-cf67-4e53-87aa-dfd58e969b83",
   "metadata": {
    "tags": []
   },
   "outputs": [
    {
     "name": "stdout",
     "output_type": "stream",
     "text": [
      "Processing file 1/101: noaa-nexrad-level2/2024/06/05/KLOT/KLOT20240605_040442_V06\n",
      "Successfully read radar data from noaa-nexrad-level2/2024/06/05/KLOT/KLOT20240605_040442_V06\n",
      "Processing file 2/101: noaa-nexrad-level2/2024/06/05/KLOT/KLOT20240605_040926_V06\n",
      "Successfully read radar data from noaa-nexrad-level2/2024/06/05/KLOT/KLOT20240605_040926_V06\n",
      "Processing file 3/101: noaa-nexrad-level2/2024/06/05/KLOT/KLOT20240605_041403_V06\n"
     ]
    },
    {
     "name": "stderr",
     "output_type": "stream",
     "text": [
      "\n",
      "KeyboardInterrupt\n",
      "\n"
     ]
    }
   ],
   "source": [
    "for i, file in enumerate(files):\n",
    "    print(f\"Processing file {i+1}/{len(files)}: {file}\")\n",
    "    # Read radar data\n",
    "    radar = read_radar_data(file)\n",
    "    if radar is None:\n",
    "        print(f\"Skipping file {file} due to read error.\")\n",
    "        continue"
   ]
  },
  {
   "cell_type": "markdown",
   "id": "e2838c56-e939-471e-b46b-8e3eb0118d82",
   "metadata": {},
   "source": [
    "### Plotting code with added features and plotted points\n",
    "\n",
    "The radar product being plotted can be changed based on the needs of the individual, but for this example, we will use reflectivity to make a singular gif. \n",
    "\n",
    "### Customizing the range of plotted data\n",
    "Vmin and vmax represent the range of dBz values you'd like to plot on the radar. Sometimes, one may want to raise the lower limit to reduce clutter or nonmeteorological scatter that often appears as low reflectivity blobs near the radar. Basically the maximum and minimum values for your colorbar as well.\n",
    "\n",
    "The sweep is the elevation being scanned. For example, sweep 0 is the lowest level scanned by the radar. \n",
    "\n",
    "### Counties\n",
    "\n",
    "Counties can be added with the ax.add_feature line. Further additions can be made using cartopy.cfeature if needed. \n",
    "\n",
    "### Location plotting \n",
    "The for loop in this cell is used to plot the location data provided in the aforementioned variables. \n",
    "\n",
    "### Zooming \n",
    "The x and ylim functions will allow you to control the zoom on your plot. The grid on the plot is representative of latitude (y) and longitude (x) lines. For this example, we are zoomed in over the points."
   ]
  },
  {
   "cell_type": "code",
   "execution_count": 109,
   "id": "7ac3064f-f821-4625-9978-bc09655857aa",
   "metadata": {
    "tags": []
   },
   "outputs": [
    {
     "ename": "IndentationError",
     "evalue": "unexpected indent (3221652724.py, line 2)",
     "output_type": "error",
     "traceback": [
      "\u001b[1;36m  Cell \u001b[1;32mIn[109], line 2\u001b[1;36m\u001b[0m\n\u001b[1;33m    ax = plt.subplot(111, projection=ccrs.PlateCarree())\u001b[0m\n\u001b[1;37m    ^\u001b[0m\n\u001b[1;31mIndentationError\u001b[0m\u001b[1;31m:\u001b[0m unexpected indent\n"
     ]
    }
   ],
   "source": [
    "fig = plt.figure(figsize=[12, 8])\n",
    "    ax = plt.subplot(111, projection=ccrs.PlateCarree())\n",
    "    display = pyart.graph.RadarMapDisplay(radar)\n",
    "    try:\n",
    "        display.plot_ppi_map('reflectivity',\n",
    "                             sweep=0,\n",
    "                             vmin=10,\n",
    "                             vmax=65,\n",
    "                             ax=ax,\n",
    "                             title=f'Z for {os.path.basename(file)}',\n",
    "                             cmap='pyart_ChaseSpectral')\n",
    "    except Exception as e:\n",
    "        print(f\"Error plotting radar data for file {file}: {e}\")\n",
    "        plt.close(fig)\n",
    "        continue\n",
    "\n",
    "    # Set the extent to zoom in much closer and centered on the points\n",
    "    plt.xlim(-88.1, -87.8)\n",
    "    plt.ylim(41.6, 41.8)\n",
    "\n",
    "    # Add counties\n",
    "    ax.add_feature(USCOUNTIES, linewidth=0.5)\n",
    "    \n",
    "    \n",
    "    for lat, lon, label, marker, color in zip(latitude, longitude, labels, markers, colors):\n",
    "        ax.plot(lon, lat, marker, label=label, color=color, transform=ccrs.PlateCarree(), markersize=10)\n",
    "\n",
    "    # Save the plot to a file\n",
    "    filename = f'radar_frame_{i}.png'\n",
    "    plt.tight_layout()\n",
    "    plt.legend(loc='upper right', fontsize='large', title='Locations')\n",
    "    plt.savefig(filename)\n",
    "    plt.close(fig)\n",
    "\n",
    "    # Add the file to the frames list\n",
    "    frames.append(filename)\n",
    "    print(f\"Saved frame {i+1}/{len(files)}: {filename}\")"
   ]
  },
  {
   "cell_type": "markdown",
   "id": "a580d725-6683-47da-bd4a-41444575d3a8",
   "metadata": {},
   "source": [
    "# Entire function for ease of access"
   ]
  },
  {
   "cell_type": "code",
   "execution_count": 114,
   "id": "053105b1-6a5c-40a1-8d75-9b9afce9bcf4",
   "metadata": {
    "tags": []
   },
   "outputs": [
    {
     "name": "stdout",
     "output_type": "stream",
     "text": [
      "Processing file 1/101: noaa-nexrad-level2/2024/06/05/KLOT/KLOT20240605_040442_V06\n",
      "Successfully read radar data from noaa-nexrad-level2/2024/06/05/KLOT/KLOT20240605_040442_V06\n",
      "Saved frame 1/101: radar_frame_0.png\n",
      "Processing file 2/101: noaa-nexrad-level2/2024/06/05/KLOT/KLOT20240605_040926_V06\n"
     ]
    },
    {
     "name": "stderr",
     "output_type": "stream",
     "text": [
      "\n",
      "KeyboardInterrupt\n",
      "\n"
     ]
    }
   ],
   "source": [
    "def read_radar_data(file_path):\n",
    "    try:\n",
    "        with fs.open(file_path, 'rb') as f:\n",
    "            radar_data = f.read()\n",
    "        radar_file = BytesIO(radar_data)\n",
    "        radar = pyart.io.read_nexrad_archive(radar_file)\n",
    "        print(f\"Successfully read radar data from {file_path}\")\n",
    "        return radar\n",
    "    except Exception as e:\n",
    "        print(f\"Failed to read radar data from {file_path}: {e}\")\n",
    "        return None\n",
    "\n",
    "# Loop through each radar file\n",
    "for i, file in enumerate(files):\n",
    "    print(f\"Processing file {i+1}/{len(files)}: {file}\")\n",
    "    # Read radar data\n",
    "    radar = read_radar_data(file)\n",
    "    if radar is None:\n",
    "        print(f\"Skipping file {file} due to read error.\")\n",
    "        continue\n",
    "\n",
    "    # Create a plot for the first sweep's reflectivity\n",
    "    fig = plt.figure(figsize=[12, 8])\n",
    "    ax = plt.subplot(111, projection=ccrs.PlateCarree())\n",
    "    display = pyart.graph.RadarMapDisplay(radar)\n",
    "    try:\n",
    "        display.plot_ppi_map('reflectivity',\n",
    "                             sweep=0,\n",
    "                             vmin=10,\n",
    "                             vmax=65,\n",
    "                             ax=ax,\n",
    "                             title=f'Z for {os.path.basename(file)}',\n",
    "                             cmap='pyart_ChaseSpectral')\n",
    "    except Exception as e:\n",
    "        print(f\"Error plotting radar data for file {file}: {e}\")\n",
    "        plt.close(fig)\n",
    "        continue\n",
    "\n",
    "    # Set the extent to zoom in much closer and centered on the points\n",
    "    plt.xlim(-88.1, -87.8)\n",
    "    plt.ylim(41.6, 41.8)\n",
    "\n",
    "    # Add counties\n",
    "    ax.add_feature(USCOUNTIES, linewidth=0.5)\n",
    "    \n",
    "    for lat, lon, label, marker, color in zip(latitude, longitude, labels, markers, colors):\n",
    "        ax.plot(lon, lat, marker, label=label, color=color, transform=ccrs.PlateCarree(), markersize=10)\n",
    "\n",
    "    # Save the plot to a file\n",
    "    filename = f'radar_frame_{i}.png'\n",
    "    plt.tight_layout()\n",
    "    plt.legend(loc='upper right', fontsize='large', title='Locations')\n",
    "    plt.savefig(filename)\n",
    "    plt.close(fig)\n",
    "\n",
    "    # Add the file to the frames list\n",
    "    frames.append(filename)\n",
    "    print(f\"Saved frame {i+1}/{len(files)}: {filename}\")"
   ]
  },
  {
   "cell_type": "markdown",
   "id": "ee118d1a-5787-469b-b9b0-486487735b0d",
   "metadata": {},
   "source": [
    "# GIF creation\n",
    "\n",
    "We can now use the data to create a gif out of the frames we've appended to our list. \n",
    "\n",
    "This code also includes code to save the gif to your local directory.\n",
    "\n",
    "Something to note, if you do not want to save the gif, you can get rid of this code.\n",
    "\n",
    "As the frames are processed, they will temporarily save to your directory until the gif is made. They will save as PNG files, which are able to be opened and can be used to make sure everything is plotting on your figure correctly.\n",
    "\n"
   ]
  },
  {
   "cell_type": "code",
   "execution_count": 137,
   "id": "308c1a87-52d6-4613-84e7-970e9a8a8fdf",
   "metadata": {
    "tags": []
   },
   "outputs": [
    {
     "name": "stdout",
     "output_type": "stream",
     "text": [
      "Creating animated GIF...\n",
      "Animated GIF created as 'radar_animation.gif'\n"
     ]
    }
   ],
   "source": [
    "if frames:\n",
    "    print(\"Creating animated GIF...\")\n",
    "    images = []\n",
    "    for filename in frames:\n",
    "        images.append(imageio.imread(filename))\n",
    "    imageio.mimsave('radar_animation.gif', images, duration=10, loop=0)  # loop=0 for infinite loop\n",
    "\n",
    "    # Clean up the saved frames\n",
    "    for filename in frames:\n",
    "        os.remove(filename)\n",
    "\n",
    "    print(\"Animated GIF created as 'radar_animation.gif'\")\n",
    "else:\n",
    "    print(\"No frames were generated.\")\n"
   ]
  },
  {
   "cell_type": "markdown",
   "id": "21bca5fa-e211-4a8c-b6ac-4db0bd63e0a6",
   "metadata": {},
   "source": [
    "# Code in two parts"
   ]
  },
  {
   "cell_type": "code",
   "execution_count": null,
   "id": "6ee03c8d-4d2a-41c3-ba82-b5140c487f29",
   "metadata": {
    "tags": []
   },
   "outputs": [],
   "source": [
    "import pyart\n",
    "import fsspec\n",
    "import matplotlib.pyplot as plt\n",
    "import imageio\n",
    "import os\n",
    "from io import BytesIO\n",
    "import warnings\n",
    "import cartopy.crs as ccrs\n",
    "from metpy.plots import USCOUNTIES\n",
    "from scipy.interpolate import griddata\n",
    "import numpy as np\n",
    "warnings.filterwarnings(\"ignore\")\n",
    "\n",
    "fs = fsspec.filesystem(\"s3\", anon=True)\n",
    "\n",
    "\n",
    "date = \"2024/06/05\" #YYYY/MM/DD\n",
    "station = \"KLOT\"\n",
    "\n",
    "# Specify the start and end hours\n",
    "start_hour = 4\n",
    "end_hour = 10\n",
    "\n",
    "# Generate the list of files for the specified range of hours\n",
    "files = []\n",
    "for hour in range(start_hour, end_hour + 1):\n",
    "    hour_str = f\"{hour:02d}\"\n",
    "    files += sorted(fs.glob(f\"s3://noaa-nexrad-level2/{date}/{station}/{station}{date.replace('/', '')}_{hour_str}*\"))\n",
    "files\n",
    "\n",
    "frames = []\n",
    "latitude = [41.700937896518866, 41.73884644555692] \n",
    "longitude = [-87.99578103231573, -87.98744136114946]\n",
    "labels = ['Tower', 'SCM']\n",
    "markers = ['v', 'o']\n",
    "colors = ['black', 'gray']\n",
    "\n",
    "def read_radar_data(file_path):\n",
    "    try:\n",
    "        with fs.open(file_path, 'rb') as f:\n",
    "            radar_data = f.read()\n",
    "        radar_file = BytesIO(radar_data)\n",
    "        radar = pyart.io.read_nexrad_archive(radar_file)\n",
    "        print(f\"Successfully read radar data from {file_path}\")\n",
    "        return radar\n",
    "    except Exception as e:\n",
    "        print(f\"Failed to read radar data from {file_path}: {e}\")\n",
    "        return None\n",
    "\n",
    "# Loop through each radar file\n",
    "for i, file in enumerate(files):\n",
    "    print(f\"Processing file {i+1}/{len(files)}: {file}\")\n",
    "    # Read radar data\n",
    "    radar = read_radar_data(file)\n",
    "    if radar is None:\n",
    "        print(f\"Skipping file {file} due to read error.\")\n",
    "        continue\n",
    "\n",
    "    # Create a plot for the first sweep's reflectivity\n",
    "    fig = plt.figure(figsize=[12, 8])\n",
    "    ax = plt.subplot(111, projection=ccrs.PlateCarree())\n",
    "    display = pyart.graph.RadarMapDisplay(radar)\n",
    "    try:\n",
    "        display.plot_ppi_map('reflectivity',\n",
    "                             sweep=0,\n",
    "                             vmin=10,\n",
    "                             vmax=65,\n",
    "                             ax=ax,\n",
    "                             title=f'Z for {os.path.basename(file)}',\n",
    "                             cmap='pyart_ChaseSpectral')\n",
    "    except Exception as e:\n",
    "        print(f\"Error plotting radar data for file {file}: {e}\")\n",
    "        plt.close(fig)\n",
    "        continue\n",
    "\n",
    "    # Set the extent to zoom in much closer and centered on the points\n",
    "    plt.xlim(-88.1, -87.8)\n",
    "    plt.ylim(41.6, 41.8)\n",
    "\n",
    "    # Add counties\n",
    "    ax.add_feature(USCOUNTIES, linewidth=0.5)\n",
    "    \n",
    "    for lat, lon, label, marker, color in zip(latitude, longitude, labels, markers, colors):\n",
    "        ax.plot(lon, lat, marker, label=label, color=color, transform=ccrs.PlateCarree(), markersize=10)\n",
    "\n",
    "    # Save the plot to a file\n",
    "    filename = f'radar_frame_{i}.png'\n",
    "    plt.tight_layout()\n",
    "    plt.legend(loc='upper right', fontsize='large', title='Locations')\n",
    "    plt.savefig(filename)\n",
    "    plt.close(fig)\n",
    "\n",
    "    # Add the file to the frames list\n",
    "    frames.append(filename)\n",
    "    print(f\"Saved frame {i+1}/{len(files)}: {filename}\")\n",
    "if frames:\n",
    "    print(\"Creating animated GIF...\")\n",
    "    images = []\n",
    "    for filename in frames:\n",
    "        images.append(imageio.imread(filename))\n",
    "    imageio.mimsave('radar_animation.gif', images, duration=10, loop=0)  # loop=0 for infinite loop\n",
    "\n",
    "    # Clean up the saved frames\n",
    "    for filename in frames:\n",
    "        os.remove(filename)\n",
    "\n",
    "    print(\"Animated GIF created as 'radar_animation.gif'\")\n",
    "else:\n",
    "    print(\"No frames were generated.\")\n"
   ]
  },
  {
   "cell_type": "markdown",
   "id": "e992e435-594d-4cf1-b7e2-2e31de44cbd6",
   "metadata": {},
   "source": [
    "# Summary"
   ]
  },
  {
   "cell_type": "markdown",
   "id": "bc630123-b523-4160-834c-fb42bf5f5f41",
   "metadata": {},
   "source": [
    "Within this example, we walked through how MetPy and PyART can be used to loop through NEXRAD level 2 data from a recent convective rainfall event and create an animated gif over a location."
   ]
  },
  {
   "cell_type": "markdown",
   "id": "047f6543-caa7-4eee-8e55-51c6a84083cc",
   "metadata": {},
   "source": [
    "## What comes next?\n",
    "\n",
    "Following this will be some examples that allow us to create gifs with radar data visualized in less conventional forms, such as vertical columns. May be included on this page or a seperate one."
   ]
  },
  {
   "cell_type": "code",
   "execution_count": null,
   "id": "3dbd063a-b71f-4c1d-9d7b-55bd2a67c419",
   "metadata": {},
   "outputs": [],
   "source": []
  }
 ],
 "metadata": {
  "kernelspec": {
   "display_name": "CROCUS",
   "language": "python",
   "name": "crocusenv"
  },
  "language_info": {
   "codemirror_mode": {
    "name": "ipython",
    "version": 3
   },
   "file_extension": ".py",
   "mimetype": "text/x-python",
   "name": "python",
   "nbconvert_exporter": "python",
   "pygments_lexer": "ipython3",
   "version": "3.12.3"
  }
 },
 "nbformat": 4,
 "nbformat_minor": 5
}
